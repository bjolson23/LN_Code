{
 "cells": [
  {
   "cell_type": "code",
   "execution_count": null,
   "id": "c1b582fd-62ee-48c4-8c11-2a6b6cbd1058",
   "metadata": {},
   "outputs": [],
   "source": [
    "from sklearn.feature_extraction.text import TfidfVectorizer\n",
    "from sklearn.feature_extraction import text\n",
    "from sklearn.cluster import KMeans\n",
    "import numpy as np\n",
    "import pandas as pd\n",
    "import pyarrow.parquet as pq"
   ]
  },
  {
   "cell_type": "code",
   "execution_count": null,
   "id": "03e0400a-bef3-43c3-ac02-2962504b09aa",
   "metadata": {},
   "outputs": [],
   "source": [
    "import os"
   ]
  },
  {
   "cell_type": "code",
   "execution_count": null,
   "id": "983016e4-11e5-43e8-bf50-c2ed8dbcac72",
   "metadata": {},
   "outputs": [],
   "source": [
    "df = pd.read_parquet(os.getcwd() + \"/files/all_df_combined.parquet\")"
   ]
  },
  {
   "cell_type": "code",
   "execution_count": null,
   "id": "349a171d-a848-449f-8b4c-66406c8405da",
   "metadata": {},
   "outputs": [],
   "source": [
    "carrier_list = df['md_carrier'].tolist()\n",
    "carrier_list = [x for x in carrier_list if x is not None]\n",
    "\n",
    "pp_carrier_list = df['pp_carrier'].tolist()\n",
    "pp_carrier_list = [x for x in pp_carrier_list if x is not None]"
   ]
  },
  {
   "cell_type": "code",
   "execution_count": null,
   "id": "0b6322d7-26ca-4ca6-807e-d8f0c1cee1ee",
   "metadata": {},
   "outputs": [],
   "source": [
    "my_stop_words = text.ENGLISH_STOP_WORDS.union([\"llc\", \"dba\", \"corp\"])\n",
    "\n",
    "vectorizer = TfidfVectorizer(stop_words=my_stop_words)\n",
    "X = vectorizer.fit_transform(carrier_list)"
   ]
  },
  {
   "cell_type": "code",
   "execution_count": null,
   "id": "b049ae2d-1719-4cba-a9e6-3232eea09641",
   "metadata": {},
   "outputs": [],
   "source": [
    "true_k = 30\n",
    "model = KMeans(n_clusters=true_k, init='k-means++', max_iter=100,\n",
    "               n_init=10)\n",
    "model.fit(X)"
   ]
  },
  {
   "cell_type": "code",
   "execution_count": null,
   "id": "95bfa303-324f-460e-b913-f9229b8d92da",
   "metadata": {},
   "outputs": [],
   "source": [
    "order_centroids = model.cluster_centers_.argsort()[:, ::-1]\n",
    "terms = vectorizer.get_feature_names()"
   ]
  },
  {
   "cell_type": "code",
   "execution_count": null,
   "id": "286ee390-d679-49a1-88f9-e803295f8d3e",
   "metadata": {},
   "outputs": [],
   "source": [
    "order_centroids"
   ]
  },
  {
   "cell_type": "code",
   "execution_count": null,
   "id": "bdc96db2-f89b-49fd-b602-11711a3e01f0",
   "metadata": {},
   "outputs": [],
   "source": [
    "for i in range(true_k): # look at cluster keywords\n",
    "    print(\"Cluster %d:\" % i),\n",
    "    for ind in order_centroids[i, :10]:\n",
    "        print(' %s' % terms[ind])"
   ]
  },
  {
   "cell_type": "code",
   "execution_count": null,
   "id": "38147b89-a19e-4ddb-ab65-78ec98f2c691",
   "metadata": {},
   "outputs": [],
   "source": [
    "#new_df = df[['acctno','gathered_ph','md_carrier']][df['md_carrier'].is.null()]\n",
    "md_df = df[df['md_carrier'].isin(carrier_list)]\n",
    "md_df = md_df[['acctno','gathered_ph','md_carrier']]\n",
    "\n",
    "pp_df = df[df['pp_carrier'].isin(carrier_list)]\n",
    "pp_df = pp_df[['acctno','gathered_ph','pp_carrier']]\n",
    "\n",
    "md_df.shape, pp_df.shape"
   ]
  },
  {
   "cell_type": "code",
   "execution_count": 65,
   "id": "8a9b64eb-38b8-455c-99bf-015c832a4662",
   "metadata": {},
   "outputs": [],
   "source": [
    "X = vectorizer.transform(md_df['md_carrier'].tolist())\n",
    "predicted = model.predict(X)"
   ]
  },
  {
   "cell_type": "code",
   "execution_count": 67,
   "id": "a3691d75-f783-408a-a464-c679d69ee5a9",
   "metadata": {},
   "outputs": [],
   "source": [
    "X_pp = vectorizer.transform(pp_df['pp_carrier'].tolist())\n",
    "pp_predicted = model.predict(X_pp)"
   ]
  },
  {
   "cell_type": "code",
   "execution_count": 68,
   "id": "e818dd56-ead6-49c4-810d-f6c8306248a3",
   "metadata": {},
   "outputs": [],
   "source": [
    "md_df['md_carrier_group_mod'] = predicted\n",
    "pp_df['mpp_carrier_group_mod'] = pp_predicted"
   ]
  },
  {
   "cell_type": "code",
   "execution_count": 69,
   "id": "4cd0a60c-4d63-4e1b-9553-61259aa9e9b2",
   "metadata": {},
   "outputs": [],
   "source": [
    "new_df = pd.merge(md_df, pp_df, how = \"outer\", on = [\"acctno\", \"gathered_ph\"])"
   ]
  },
  {
   "cell_type": "code",
   "execution_count": 70,
   "id": "a26e9eaa-530e-497d-9764-a1d0648cbe1a",
   "metadata": {},
   "outputs": [
    {
     "data": {
      "text/html": [
       "<div>\n",
       "<style scoped>\n",
       "    .dataframe tbody tr th:only-of-type {\n",
       "        vertical-align: middle;\n",
       "    }\n",
       "\n",
       "    .dataframe tbody tr th {\n",
       "        vertical-align: top;\n",
       "    }\n",
       "\n",
       "    .dataframe thead th {\n",
       "        text-align: right;\n",
       "    }\n",
       "</style>\n",
       "<table border=\"1\" class=\"dataframe\">\n",
       "  <thead>\n",
       "    <tr style=\"text-align: right;\">\n",
       "      <th></th>\n",
       "      <th>acctno</th>\n",
       "      <th>gathered_ph</th>\n",
       "      <th>md_carrier</th>\n",
       "      <th>md_carrier_group_mod</th>\n",
       "      <th>pp_carrier</th>\n",
       "      <th>mpp_carrier_group_mod</th>\n",
       "    </tr>\n",
       "  </thead>\n",
       "  <tbody>\n",
       "    <tr>\n",
       "      <th>0</th>\n",
       "      <td>2101010001</td>\n",
       "      <td>2092279114</td>\n",
       "      <td>SPRINT SPECTRUM L.P.</td>\n",
       "      <td>6.0</td>\n",
       "      <td>NaN</td>\n",
       "      <td>NaN</td>\n",
       "    </tr>\n",
       "    <tr>\n",
       "      <th>1</th>\n",
       "      <td>2101010001</td>\n",
       "      <td>2092304725</td>\n",
       "      <td>NEW CINGULAR WIRELESS PCS, LLC - GA</td>\n",
       "      <td>4.0</td>\n",
       "      <td>NaN</td>\n",
       "      <td>NaN</td>\n",
       "    </tr>\n",
       "    <tr>\n",
       "      <th>2</th>\n",
       "      <td>2101010001</td>\n",
       "      <td>2094066813</td>\n",
       "      <td>ATT</td>\n",
       "      <td>2.0</td>\n",
       "      <td>NaN</td>\n",
       "      <td>NaN</td>\n",
       "    </tr>\n",
       "    <tr>\n",
       "      <th>3</th>\n",
       "      <td>2101010001</td>\n",
       "      <td>2094634034</td>\n",
       "      <td>PACIFIC BELL</td>\n",
       "      <td>1.0</td>\n",
       "      <td>PACIFIC BELL</td>\n",
       "      <td>1.0</td>\n",
       "    </tr>\n",
       "    <tr>\n",
       "      <th>4</th>\n",
       "      <td>2101010001</td>\n",
       "      <td>2094655806</td>\n",
       "      <td>PACIFIC BELL</td>\n",
       "      <td>1.0</td>\n",
       "      <td>PACIFIC BELL</td>\n",
       "      <td>1.0</td>\n",
       "    </tr>\n",
       "    <tr>\n",
       "      <th>5</th>\n",
       "      <td>2101010001</td>\n",
       "      <td>2094667929</td>\n",
       "      <td>PACIFIC BELL</td>\n",
       "      <td>1.0</td>\n",
       "      <td>PACIFIC BELL</td>\n",
       "      <td>1.0</td>\n",
       "    </tr>\n",
       "    <tr>\n",
       "      <th>6</th>\n",
       "      <td>2101010001</td>\n",
       "      <td>2094673924</td>\n",
       "      <td>UTILITY TELECOM GROUP, LLC - CA</td>\n",
       "      <td>2.0</td>\n",
       "      <td>NaN</td>\n",
       "      <td>NaN</td>\n",
       "    </tr>\n",
       "    <tr>\n",
       "      <th>7</th>\n",
       "      <td>2101010001</td>\n",
       "      <td>2094690878</td>\n",
       "      <td>PACIFIC BELL</td>\n",
       "      <td>1.0</td>\n",
       "      <td>PACIFIC BELL</td>\n",
       "      <td>1.0</td>\n",
       "    </tr>\n",
       "    <tr>\n",
       "      <th>8</th>\n",
       "      <td>2101010001</td>\n",
       "      <td>2094698944</td>\n",
       "      <td>PACIFIC BELL</td>\n",
       "      <td>1.0</td>\n",
       "      <td>PACIFIC BELL</td>\n",
       "      <td>1.0</td>\n",
       "    </tr>\n",
       "    <tr>\n",
       "      <th>9</th>\n",
       "      <td>2101010001</td>\n",
       "      <td>2094702745</td>\n",
       "      <td>CELLCO PARTNERSHIP DBA VERIZON WIRELESS - CA</td>\n",
       "      <td>10.0</td>\n",
       "      <td>NaN</td>\n",
       "      <td>NaN</td>\n",
       "    </tr>\n",
       "  </tbody>\n",
       "</table>\n",
       "</div>"
      ],
      "text/plain": [
       "       acctno  gathered_ph                                    md_carrier  \\\n",
       "0  2101010001   2092279114                          SPRINT SPECTRUM L.P.   \n",
       "1  2101010001   2092304725           NEW CINGULAR WIRELESS PCS, LLC - GA   \n",
       "2  2101010001   2094066813                                           ATT   \n",
       "3  2101010001   2094634034                                  PACIFIC BELL   \n",
       "4  2101010001   2094655806                                  PACIFIC BELL   \n",
       "5  2101010001   2094667929                                  PACIFIC BELL   \n",
       "6  2101010001   2094673924               UTILITY TELECOM GROUP, LLC - CA   \n",
       "7  2101010001   2094690878                                  PACIFIC BELL   \n",
       "8  2101010001   2094698944                                  PACIFIC BELL   \n",
       "9  2101010001   2094702745  CELLCO PARTNERSHIP DBA VERIZON WIRELESS - CA   \n",
       "\n",
       "   md_carrier_group_mod    pp_carrier  mpp_carrier_group_mod  \n",
       "0                   6.0           NaN                    NaN  \n",
       "1                   4.0           NaN                    NaN  \n",
       "2                   2.0           NaN                    NaN  \n",
       "3                   1.0  PACIFIC BELL                    1.0  \n",
       "4                   1.0  PACIFIC BELL                    1.0  \n",
       "5                   1.0  PACIFIC BELL                    1.0  \n",
       "6                   2.0           NaN                    NaN  \n",
       "7                   1.0  PACIFIC BELL                    1.0  \n",
       "8                   1.0  PACIFIC BELL                    1.0  \n",
       "9                  10.0           NaN                    NaN  "
      ]
     },
     "execution_count": 70,
     "metadata": {},
     "output_type": "execute_result"
    }
   ],
   "source": [
    "new_df.head(10)"
   ]
  },
  {
   "cell_type": "code",
   "execution_count": 71,
   "id": "ebf958e0-9d2c-44aa-ac39-d8665c7df473",
   "metadata": {},
   "outputs": [],
   "source": [
    "new_df.to_csv(os.getcwd()+\"./files/carrier_mod_groups.csv\")"
   ]
  },
  {
   "cell_type": "code",
   "execution_count": null,
   "id": "8405c5f4-f9fa-4584-b270-95f311069f39",
   "metadata": {},
   "outputs": [],
   "source": [
    "TfidfVectorizer?"
   ]
  },
  {
   "cell_type": "code",
   "execution_count": null,
   "id": "0e33fd98-338a-4b7c-8bc1-5eb5078354e2",
   "metadata": {},
   "outputs": [],
   "source": []
  }
 ],
 "metadata": {
  "kernelspec": {
   "display_name": "Python 3",
   "language": "python",
   "name": "python3"
  },
  "language_info": {
   "codemirror_mode": {
    "name": "ipython",
    "version": 3
   },
   "file_extension": ".py",
   "mimetype": "text/x-python",
   "name": "python",
   "nbconvert_exporter": "python",
   "pygments_lexer": "ipython3",
   "version": "3.8.10"
  }
 },
 "nbformat": 4,
 "nbformat_minor": 5
}
